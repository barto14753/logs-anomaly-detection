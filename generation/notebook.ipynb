{
 "cells": [
  {
   "cell_type": "code",
   "execution_count": 4,
   "metadata": {},
   "outputs": [
    {
     "name": "stdout",
     "output_type": "stream",
     "text": [
      "           Time  Duration   SrcDevice   DstDevice  Protocol    SrcPort  \\\n",
      "0        118781      5580  Comp364445  Comp547245        17  Port05507   \n",
      "1        118783      6976  Comp450942  Comp829338         6  Port03137   \n",
      "2        118785     14178    IP564116  Comp141988        17       5060   \n",
      "3        118785     28147    IP564116  Comp141988        17       5060   \n",
      "4        118785     48507    IP564116  Comp141988        17       5060   \n",
      "...         ...       ...         ...         ...       ...        ...   \n",
      "1447663  121056    265491  Comp410198  Comp810224        17  Port62821   \n",
      "1447664  121056    265546  Comp410198  Comp088487        17  Port97860   \n",
      "1447665  121056    265562  Comp410198  Comp810224        17  Port67789   \n",
      "1447666  121056    265736  Comp410198  Comp810224        17  Port67023   \n",
      "1447667  121056    265740  Comp410198  Comp810224        17  Port78483   \n",
      "\n",
      "           DstPort  SrcPackets  DstPackets  SrcBytes      DstBytes  \n",
      "0        Port46272           0      755065         0  1.042329e+09  \n",
      "1              445        1665        1108    300810  2.504080e+05  \n",
      "2             5060        1866           0   1477041  0.000000e+00  \n",
      "3             5060        3326           0   2656305  0.000000e+00  \n",
      "4             5060        5423           0   4388449  0.000000e+00  \n",
      "...            ...         ...         ...       ...           ...  \n",
      "1447663        514        8910           0   6697917  0.000000e+00  \n",
      "1447664        514        4603           0   3129274  0.000000e+00  \n",
      "1447665        514        7566           0   5391490  0.000000e+00  \n",
      "1447666        514        6328           0   4007361  0.000000e+00  \n",
      "1447667        514        5606           0   3905968           NaN  \n",
      "\n",
      "[1447668 rows x 11 columns]\n"
     ]
    }
   ],
   "source": [
    "import pandas as pd\n",
    "import matplotlib.pyplot as plt\n",
    "\n",
    "\n",
    "DATA_FILE = \"logs.txt\"\n",
    "\n",
    "df = pd.read_csv(DATA_FILE)\n",
    "print(df)"
   ]
  },
  {
   "cell_type": "code",
   "execution_count": 2,
   "metadata": {},
   "outputs": [
    {
     "name": "stdout",
     "output_type": "stream",
     "text": [
      "count        1447668\n",
      "unique          6008\n",
      "top       Comp141988\n",
      "freq          126237\n",
      "Name: DstDevice, dtype: object\n"
     ]
    }
   ],
   "source": [
    "# DstDevice\n",
    "dstDeviceCol = df['DstDevice'].describe()\n",
    "print(dstDeviceCol)"
   ]
  },
  {
   "cell_type": "code",
   "execution_count": null,
   "metadata": {},
   "outputs": [],
   "source": [
    "plt.figure(figsize=(10, 6))\n",
    "\n",
    "column_name = \"Duration\"\n",
    "\n",
    "plt.hist(df[column_name], bins=range(min(df[column_name]), max(df[column_name]) + 1), edgecolor='black')\n",
    "plt.xlabel('Column Values')\n",
    "plt.ylabel('Frequency')\n",
    "plt.title('Distribution of Column Values')\n",
    "plt.show() "
   ]
  }
 ],
 "metadata": {
  "kernelspec": {
   "display_name": "base",
   "language": "python",
   "name": "python3"
  },
  "language_info": {
   "codemirror_mode": {
    "name": "ipython",
    "version": 3
   },
   "file_extension": ".py",
   "mimetype": "text/x-python",
   "name": "python",
   "nbconvert_exporter": "python",
   "pygments_lexer": "ipython3",
   "version": "3.10.10"
  }
 },
 "nbformat": 4,
 "nbformat_minor": 2
}
